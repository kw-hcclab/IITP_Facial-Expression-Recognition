{
 "cells": [
  {
   "cell_type": "code",
   "execution_count": null,
   "metadata": {},
   "outputs": [],
   "source": [
    "from tqdm import tqdm\n",
    "import re\n",
    "import tensorflow as tf\n",
    "from sklearn.preprocessing import OneHotEncoder\n",
    "import numpy as np\n",
    "import random\n",
    "import keras\n",
    "import pandas as pd\n",
    "from tensorflow.keras.utils import to_categorical\n",
    "import matplotlib.pyplot as plt\n",
    "import IPython.display as display"
   ]
  },
  {
   "cell_type": "markdown",
   "metadata": {},
   "source": [
    "# tfrecord에서 특정 부분 변경"
   ]
  },
  {
   "cell_type": "code",
   "execution_count": null,
   "metadata": {},
   "outputs": [],
   "source": [
    "dataset = tf.data.TFRecordDataset('../data/face_data.tfrecord')\n",
    "writer = tf.data.experimental.TFRecordWriter('../data/face_data3.tfrecord')\n",
    "with tf.io.TFRecordWriter('../data/face_data3.tfrecord') as f:\n",
    "    for i in dataset:\n",
    "        feature_description = {\"image\": tf.io.VarLenFeature(dtype=tf.string),\n",
    "                            \"class\": tf.io.VarLenFeature(dtype=tf.int64)}\n",
    "\n",
    "        example = tf.io.parse_single_example(i, feature_description)\n",
    "        image_raw = tf.sparse.to_dense(example[\"image\"])[0]\n",
    "        image = tf.io.decode_png(image_raw, channels=3)\n",
    "        image = tf.image.resize(image, size=[224, 224])\n",
    "        image = tf.io.encode_jpeg(tf.cast(image, dtype=tf.uint8)).numpy()    \n",
    "        image_class = tf.sparse.to_dense(example[\"class\"])\n",
    "        # print(tf.cast(image_class, dtype=tf.int64))\n",
    "        record = tf.train.Example(\n",
    "                    features=tf.train.Features(\n",
    "                        feature={\n",
    "                            'image': tf.train.Feature(bytes_list=tf.train.BytesList(value=[image])),\n",
    "                            'class': tf.train.Feature(int64_list=tf.train.Int64List(value=image_class.numpy())),\n",
    "                            # 'bb_box': tf.train.Feature(float_list=tf.train.FloatList(value=bb_box_list)),\n",
    "                            # 'landmark': tf.train.Feature(float_list=tf.train.FloatList(value=landmark_list))\n",
    "                        }\n",
    "                    )\n",
    "                )\n",
    "        f.write(record.SerializeToString())"
   ]
  },
  {
   "cell_type": "markdown",
   "metadata": {},
   "source": [
    "# tfrecord 파일 합치기"
   ]
  },
  {
   "cell_type": "code",
   "execution_count": null,
   "metadata": {},
   "outputs": [],
   "source": [
    "save_path = '../data/merge.tfrecord'\n",
    "tfrecords_path = ['../data/face_data2.tfrecord', '../data/face_data3.tfrecord']\n",
    "dataset = tf.data.TFRecordDataset(tfrecords_path)\n",
    "writer = tf.data.experimental.TFRecordWriter(save_path)\n",
    "writer.write(dataset)"
   ]
  }
 ],
 "metadata": {
  "kernelspec": {
   "display_name": "Python 3.8.13 ('tfcpu')",
   "language": "python",
   "name": "python3"
  },
  "language_info": {
   "name": "python",
   "version": "3.8.13 (default, Mar 28 2022, 06:59:08) [MSC v.1916 64 bit (AMD64)]"
  },
  "orig_nbformat": 4,
  "vscode": {
   "interpreter": {
    "hash": "6d33ffa5208dd9358d696c42528b9cb72d52447a14e7c8b13c779f205529c40a"
   }
  }
 },
 "nbformat": 4,
 "nbformat_minor": 2
}
