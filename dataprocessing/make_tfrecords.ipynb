{
 "cells": [
  {
   "cell_type": "code",
   "execution_count": 3,
   "metadata": {},
   "outputs": [],
   "source": [
    "import numpy as np\n",
    "import os\n",
    "import PIL\n",
    "import PIL.Image\n",
    "import data_process\n",
    "import tensorflow as tf\n",
    "import tensorflow_datasets as tfds\n",
    "import pandas as pd\n",
    "from tqdm import tqdm\n",
    "import random\n",
    "import matplotlib.pyplot as plt\n",
    "import cv2"
   ]
  },
  {
   "cell_type": "code",
   "execution_count": 4,
   "metadata": {},
   "outputs": [
    {
     "name": "stderr",
     "output_type": "stream",
     "text": [
      "202207.28011400713+0 폴더 작업중: 100%|██████████| 26/26 [00:00<00:00, 1625.05it/s]\n",
      "202207.28011413972+0 폴더 작업중: 100%|██████████| 31/31 [00:00<00:00, 1897.57it/s]\n",
      "202207.28011434928+1 폴더 작업중: 100%|██████████| 34/34 [00:00<00:00, 1481.81it/s]\n",
      "202207.28011447695+1 폴더 작업중: 100%|██████████| 28/28 [00:00<00:00, 1473.66it/s]\n",
      "202207.28114459037+0 폴더 작업중: 100%|██████████| 15/15 [00:00<00:00, 1875.19it/s]\n",
      "202207.28114510623+1 폴더 작업중: 100%|██████████| 19/19 [00:00<00:00, 1048.38it/s]\n",
      "202207.30170311124+0 폴더 작업중: 100%|██████████| 47/47 [00:00<00:00, 1383.68it/s]\n",
      "202207.30170402969+0 폴더 작업중: 100%|██████████| 36/36 [00:00<00:00, 1241.40it/s]\n",
      "202207.30170518743+1 폴더 작업중: 100%|██████████| 25/25 [00:00<00:00, 961.48it/s]\n",
      "202207.30201659324+0 폴더 작업중: 100%|██████████| 26/26 [00:00<00:00, 1399.46it/s]\n",
      "202207.30201717668+1 폴더 작업중: 100%|██████████| 34/34 [00:00<00:00, 1889.08it/s]\n",
      "202208.02123442279+0 폴더 작업중: 100%|██████████| 155/155 [00:00<00:00, 1828.72it/s]\n",
      "202208.02123524623+1 폴더 작업중: 100%|██████████| 196/196 [00:00<00:00, 2028.98it/s]\n",
      "202208.02123849287+0 폴더 작업중: 100%|██████████| 77/77 [00:00<00:00, 2199.98it/s]\n",
      "202208.02123946543+0 폴더 작업중: 100%|██████████| 119/119 [00:00<00:00, 1941.72it/s]\n",
      "202208.02124153853+1 폴더 작업중: 100%|██████████| 186/186 [00:00<00:00, 1897.97it/s]\n",
      "이미지를 tfrecord에 저장중: 100%|██████████| 1038/1038 [00:01<00:00, 519.29it/s]\n"
     ]
    },
    {
     "name": "stdout",
     "output_type": "stream",
     "text": [
      "이미지 갯수:  1038\n"
     ]
    }
   ],
   "source": [
    "data_process.data_to_tfrecord(imagepath='../data/images/', outputpath='../data/face_data7.tfrecord')"
   ]
  },
  {
   "cell_type": "code",
   "execution_count": 9,
   "metadata": {},
   "outputs": [
    {
     "data": {
      "text/plain": [
       "<MapDataset element_spec={'class': TensorSpec(shape=(), dtype=tf.int64, name=None), 'image': TensorSpec(shape=(), dtype=tf.string, name=None), 'landmark_points': TensorSpec(shape=(), dtype=tf.float32, name=None)}>"
      ]
     },
     "execution_count": 9,
     "metadata": {},
     "output_type": "execute_result"
    }
   ],
   "source": [
    "filenames = '../data/face_data_7.tfrecord'\n",
    "raw_dataset = tf.data.TFRecordDataset(filenames)\n",
    "raw_dataset\n",
    "# Create a dictionary describing the features.\n",
    "image_feature_description = {\n",
    "    'image': tf.io.FixedLenFeature([], tf.string),    \n",
    "    'class': tf.io.FixedLenFeature([], tf.int64),\n",
    "    'landmark_points': tf.io.FixedLenFeature([], tf.float32),    \n",
    "}\n",
    "\n",
    "def _parse_image_function(example_proto): \n",
    "  # Parse the input tf.train.Example proto using the dictionary above.  \n",
    "  return tf.io.parse_single_example(example_proto, image_feature_description)\n",
    "\n",
    "parsed_image_dataset = raw_dataset.map(_parse_image_function)\n",
    "parsed_image_dataset"
   ]
  },
  {
   "cell_type": "code",
   "execution_count": null,
   "metadata": {},
   "outputs": [],
   "source": [
    "for image_features in parsed_image_dataset:\n",
    "    print(image_features)\n",
    "    image_raw = image_features['class'].numpy()\n",
    "print(image_raw)\n",
    "# display.display(display.Image(data=image_raw))"
   ]
  },
  {
   "cell_type": "code",
   "execution_count": 5,
   "metadata": {},
   "outputs": [],
   "source": [
    "@tf.function\n",
    "def landmark_tfrecord_reader(example):\n",
    "    feature_description = {\"image\": tf.io.VarLenFeature(dtype=tf.string),\n",
    "                           \"class\": tf.io.VarLenFeature(dtype=tf.int64),\n",
    "                           \"landmark_points\": tf.io.VarLenFeature(dtype=tf.float32)}\n",
    "\n",
    "    example = tf.io.parse_single_example(example, feature_description)\n",
    "    image_raw = tf.sparse.to_dense(example[\"image\"])[0]\n",
    "    image = tf.io.decode_png(image_raw, channels=3)\n",
    "    image_class = tf.sparse.to_dense(example[\"class\"])\n",
    "    image_landmark = tf.sparse.to_dense(example[\"landmark_points\"])\n",
    "\n",
    "    return image, image_class, image_landmark"
   ]
  }
 ],
 "metadata": {
  "kernelspec": {
   "display_name": "Python 3.9.12 ('tfface')",
   "language": "python",
   "name": "python3"
  },
  "language_info": {
   "codemirror_mode": {
    "name": "ipython",
    "version": 3
   },
   "file_extension": ".py",
   "mimetype": "text/x-python",
   "name": "python",
   "nbconvert_exporter": "python",
   "pygments_lexer": "ipython3",
   "version": "3.9.12"
  },
  "orig_nbformat": 4,
  "vscode": {
   "interpreter": {
    "hash": "7e318f884811f55877d06bbc5456a4670ca1397bb6e20c4ae81dc4f96f0847c6"
   }
  }
 },
 "nbformat": 4,
 "nbformat_minor": 2
}
