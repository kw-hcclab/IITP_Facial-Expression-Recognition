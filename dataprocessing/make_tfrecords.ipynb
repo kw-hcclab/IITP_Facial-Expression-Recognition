{
 "cells": [
  {
   "cell_type": "code",
   "execution_count": 1,
   "metadata": {},
   "outputs": [],
   "source": [
    "import numpy as np\n",
    "import os\n",
    "import PIL\n",
    "import PIL.Image\n",
    "import data_process\n",
    "import tensorflow as tf\n",
    "import tensorflow_datasets as tfds\n",
    "import pandas as pd\n",
    "from tqdm import tqdm\n",
    "import random\n",
    "import matplotlib.pyplot as plt\n",
    "import cv2"
   ]
  },
  {
   "cell_type": "code",
   "execution_count": 2,
   "metadata": {},
   "outputs": [
    {
     "name": "stderr",
     "output_type": "stream",
     "text": [
      "202208.16173256779+0 폴더 작업중: 100%|██████████| 110/110 [00:00<00:00, 1774.20it/s]\n",
      "이미지를 tfrecord에 저장중: 100%|██████████| 109/109 [00:00<00:00, 384.24it/s]"
     ]
    },
    {
     "name": "stdout",
     "output_type": "stream",
     "text": [
      "이미지 갯수:  109\n",
      "[0, 0, 0, 0, 0, 0, 0, 0, 0, 0, 0, 0, 0, 0, 0, 0, 0, 0, 0, 0, 0, 0, 0, 0, 0, 0, 0, 0, 0, 0, 0, 0, 0, 0, 0, 0, 0, 0, 0, 0, 0, 0, 0, 0, 0, 0, 0, 0, 0, 0, 0, 0, 0, 0, 0, 0, 0, 0, 0, 0, 0, 0, 0, 0, 0, 0, 0, 0, 0, 0, 0, 0, 0, 0, 0, 0, 0, 0, 0, 0, 0, 0, 0, 0, 0, 0, 0, 0, 0, 0, 0, 0, 0, 0, 0, 0, 0, 0, 0, 0, 0, 0, 0, 0, 0, 0, 0, 0, 0]\n"
     ]
    },
    {
     "name": "stderr",
     "output_type": "stream",
     "text": [
      "\n"
     ]
    }
   ],
   "source": [
    "data_process.data_to_tfrecord(imagepath='../data/images/', outputpath='../data/face_data_fortest.tfrecord')"
   ]
  },
  {
   "cell_type": "code",
   "execution_count": null,
   "metadata": {},
   "outputs": [],
   "source": [
    "filenames = '../data/face_data_7.tfrecord'\n",
    "raw_dataset = tf.data.TFRecordDataset(filenames)\n",
    "raw_dataset\n",
    "# Create a dictionary describing the features.\n",
    "image_feature_description = {\n",
    "    'image': tf.io.FixedLenFeature([], tf.string),    \n",
    "    'class': tf.io.FixedLenFeature([], tf.int64),\n",
    "    'landmark_points': tf.io.FixedLenFeature([], tf.float32),    \n",
    "}\n",
    "\n",
    "def _parse_image_function(example_proto): \n",
    "  # Parse the input tf.train.Example proto using the dictionary above.  \n",
    "  return tf.io.parse_single_example(example_proto, image_feature_description)\n",
    "\n",
    "parsed_image_dataset = raw_dataset.map(_parse_image_function)\n",
    "parsed_image_dataset"
   ]
  },
  {
   "cell_type": "code",
   "execution_count": null,
   "metadata": {},
   "outputs": [],
   "source": [
    "for image_features in parsed_image_dataset:\n",
    "    print(image_features)\n",
    "    image_raw = image_features['class'].numpy()\n",
    "print(image_raw)\n",
    "# display.display(display.Image(data=image_raw))"
   ]
  },
  {
   "cell_type": "code",
   "execution_count": 2,
   "metadata": {},
   "outputs": [],
   "source": [
    "@tf.function\n",
    "def landmark_tfrecord_reader(example):\n",
    "    feature_description = {\"image\": tf.io.VarLenFeature(dtype=tf.string),\n",
    "                           \"class\": tf.io.VarLenFeature(dtype=tf.int64),\n",
    "                           \"landmark_points\": tf.io.VarLenFeature(dtype=tf.float32)}\n",
    "\n",
    "    inputs = {}\n",
    "    example = tf.io.parse_single_example(example, feature_description)\n",
    "    image_raw = tf.sparse.to_dense(example[\"image\"])[0]\n",
    "    inputs['image'] = tf.io.decode_png(image_raw, channels=3)\n",
    "    image_class = tf.sparse.to_dense(example[\"class\"])\n",
    "    inputs['image_landmarks'] = tf.cast(tf.sparse.to_dense(example[\"landmark_points\"]), tf.float32)\n",
    "    return inputs, image_class"
   ]
  },
  {
   "cell_type": "code",
   "execution_count": 3,
   "metadata": {},
   "outputs": [],
   "source": [
    "def image_scaling(x, y):\n",
    "    x['image'] = tf.cast(x['image'], tf.float32) / 255.\n",
    "    # x 480pixel, y 640pixel\n",
    "    x['image_landmarks'] = tf.cast(x['image_landmarks'], tf.float32) / 640.\n",
    "    return x, y"
   ]
  },
  {
   "cell_type": "code",
   "execution_count": 4,
   "metadata": {},
   "outputs": [],
   "source": [
    "filenames = '../data/face_data_fortest.tfrecord'\n",
    "ds = tf.data.TFRecordDataset(filenames).map(landmark_tfrecord_reader)\n",
    "ds = ds.map(image_scaling).batch(32)\n",
    "ds = ds.prefetch(buffer_size=tf.data.experimental.AUTOTUNE)"
   ]
  },
  {
   "cell_type": "code",
   "execution_count": 5,
   "metadata": {},
   "outputs": [],
   "source": [
    "lds = list(ds)"
   ]
  },
  {
   "cell_type": "code",
   "execution_count": 7,
   "metadata": {},
   "outputs": [
    {
     "data": {
      "text/plain": [
       "<tf.Tensor: shape=(224, 224, 3), dtype=float32, numpy=\n",
       "array([[[0.7764706 , 0.78039217, 0.70980394],\n",
       "        [0.77254903, 0.7764706 , 0.7058824 ],\n",
       "        [0.76862746, 0.77254903, 0.7019608 ],\n",
       "        ...,\n",
       "        [0.8509804 , 0.8666667 , 0.8117647 ],\n",
       "        [0.84705883, 0.8627451 , 0.80784315],\n",
       "        [0.84313726, 0.85882354, 0.8039216 ]],\n",
       "\n",
       "       [[0.77254903, 0.7764706 , 0.7058824 ],\n",
       "        [0.77254903, 0.7764706 , 0.7058824 ],\n",
       "        [0.77254903, 0.7764706 , 0.7058824 ],\n",
       "        ...,\n",
       "        [0.84705883, 0.8627451 , 0.80784315],\n",
       "        [0.84313726, 0.85882354, 0.8039216 ],\n",
       "        [0.8392157 , 0.85490197, 0.8       ]],\n",
       "\n",
       "       [[0.7764706 , 0.78039217, 0.70980394],\n",
       "        [0.7764706 , 0.78039217, 0.70980394],\n",
       "        [0.7764706 , 0.78039217, 0.70980394],\n",
       "        ...,\n",
       "        [0.84313726, 0.85882354, 0.8039216 ],\n",
       "        [0.8392157 , 0.85490197, 0.8       ],\n",
       "        [0.8352941 , 0.8509804 , 0.79607844]],\n",
       "\n",
       "       ...,\n",
       "\n",
       "       [[0.07450981, 0.09411765, 0.07843138],\n",
       "        [0.05882353, 0.07843138, 0.0627451 ],\n",
       "        [0.04705882, 0.06666667, 0.05098039],\n",
       "        ...,\n",
       "        [0.1254902 , 0.14901961, 0.13333334],\n",
       "        [0.1254902 , 0.14901961, 0.13333334],\n",
       "        [0.12941177, 0.15294118, 0.13725491]],\n",
       "\n",
       "       [[0.07058824, 0.09019608, 0.07450981],\n",
       "        [0.06666667, 0.08627451, 0.07058824],\n",
       "        [0.05490196, 0.07450981, 0.05882353],\n",
       "        ...,\n",
       "        [0.12156863, 0.14509805, 0.12941177],\n",
       "        [0.1254902 , 0.14901961, 0.13333334],\n",
       "        [0.1254902 , 0.14901961, 0.13333334]],\n",
       "\n",
       "       [[0.05098039, 0.07058824, 0.05490196],\n",
       "        [0.07450981, 0.09411765, 0.07843138],\n",
       "        [0.04313726, 0.0627451 , 0.04705882],\n",
       "        ...,\n",
       "        [0.08235294, 0.10588235, 0.09019608],\n",
       "        [0.08235294, 0.10588235, 0.09019608],\n",
       "        [0.08235294, 0.10588235, 0.09019608]]], dtype=float32)>"
      ]
     },
     "execution_count": 7,
     "metadata": {},
     "output_type": "execute_result"
    }
   ],
   "source": [
    "lds[0][0]['image'][0]"
   ]
  }
 ],
 "metadata": {
  "kernelspec": {
   "display_name": "Python 3.9.12 ('tfface')",
   "language": "python",
   "name": "python3"
  },
  "language_info": {
   "codemirror_mode": {
    "name": "ipython",
    "version": 3
   },
   "file_extension": ".py",
   "mimetype": "text/x-python",
   "name": "python",
   "nbconvert_exporter": "python",
   "pygments_lexer": "ipython3",
   "version": "3.9.12"
  },
  "orig_nbformat": 4,
  "vscode": {
   "interpreter": {
    "hash": "7e318f884811f55877d06bbc5456a4670ca1397bb6e20c4ae81dc4f96f0847c6"
   }
  }
 },
 "nbformat": 4,
 "nbformat_minor": 2
}
