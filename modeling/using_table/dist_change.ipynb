{
 "cells": [
  {
   "cell_type": "code",
   "execution_count": 2,
   "metadata": {},
   "outputs": [],
   "source": [
    "import sys\n",
    "sys.path.append(\"../../dataprocessing\")\n",
    "import numpy as np\n",
    "import os\n",
    "import PIL\n",
    "import PIL.Image\n",
    "from PIL import ImageDraw\n",
    "import tensorflow as tf\n",
    "# import tensorflow_datasets as tfds\n",
    "import pandas as pd\n",
    "from tqdm import tqdm\n",
    "import random\n",
    "import data_process\n",
    "import matplotlib.pyplot as plt\n",
    "import seaborn as sns\n",
    "import cv2\n",
    "from scipy.spatial import distance\n",
    "\n",
    "from sklearn.tree import DecisionTreeClassifier\n",
    "from sklearn.ensemble import RandomForestClassifier\n",
    "from sklearn.model_selection import train_test_split\n",
    "from sklearn.preprocessing import StandardScaler\n",
    "from sklearn.preprocessing import MinMaxScaler\n",
    "import matplotlib.pyplot as plt\n",
    "import pickle\n",
    "from sklearn.metrics import confusion_matrix, classification_report\n",
    "from sklearn.metrics import accuracy_score, precision_score, recall_score, f1_score, plot_confusion_matrix\n",
    "import datetime as dt\n",
    "import xgboost as xgb\n",
    "from xgboost import plot_importance, plot_tree\n",
    "from xgboost import XGBClassifier"
   ]
  },
  {
   "cell_type": "markdown",
   "metadata": {},
   "source": [
    "## 함수 정의"
   ]
  },
  {
   "cell_type": "code",
   "execution_count": 3,
   "metadata": {},
   "outputs": [
    {
     "name": "stdout",
     "output_type": "stream",
     "text": [
      "c:\\Users\\jongm\\Desktop\\MINI\\projects\\Facial-Expression-Recognition\\modeling\n"
     ]
    }
   ],
   "source": [
    "cd ../"
   ]
  },
  {
   "cell_type": "code",
   "execution_count": 4,
   "metadata": {},
   "outputs": [],
   "source": [
    "def cal_dist(data):\n",
    "    landmark_matrixs, landmark_matrixs_df = [], []\n",
    "    lp = [point[:-1] for point in data.columns if '-' in point]\n",
    "    set_lp = sorted(set(lp), key = lambda x: lp.index(x))\n",
    "    for idx, row in data.iterrows():\n",
    "        # print(str(idx)+\" 하는중\")\n",
    "        temp_list = []\n",
    "        for i in range(len(set_lp)):\n",
    "            temp_list.append([row[set_lp[i]+'x'], row[set_lp[i]+'y']])\n",
    "        temp = pd.DataFrame(distance.cdist(temp_list, temp_list, metric='euclidean'), index=set_lp, columns=set_lp)\n",
    "        landmark_matrixs.append(temp)\n",
    "        landmark_matrixs_df.append(temp.to_numpy()[np.triu_indices(len(set_lp), 1)])\n",
    "    return landmark_matrixs, pd.DataFrame(landmark_matrixs_df)"
   ]
  },
  {
   "cell_type": "code",
   "execution_count": 5,
   "metadata": {},
   "outputs": [],
   "source": [
    "def show_img(data, path, landmark_points):    \n",
    "    img_array = np.fromfile(path, np.uint8)\n",
    "    img = cv2.imdecode(img_array, cv2.IMREAD_COLOR)\n",
    "    # img = cv2.imread(path, cv2.IMREAD_COLOR)    \n",
    "    drawing_image = img.copy()\n",
    "    target_landmark = landmark_points.index\n",
    "    # print(landmark_points.index)\n",
    "    # print(data)\n",
    "    for idx in range(0,len(data.columns),2):\n",
    "        radius = 2\n",
    "        x = data.loc[int(float(path.split('/')[4][:-4]))][data.columns[idx]]\n",
    "        y = data.loc[int(float(path.split('/')[4][:-4]))][data.columns[idx+1]]\n",
    "        # if data.columns[idx] == 'frame':\n",
    "        #     continue\n",
    "        if data.columns[idx][:-1] in target_landmark:\n",
    "            # print(x,y)\n",
    "            cv2.circle(drawing_image, center= tuple([int(x),int(y)]), radius=radius*2, color=(255,255,0), thickness=-1, lineType=cv2.LINE_AA)\n",
    "        else:\n",
    "            cv2.circle(drawing_image, center= tuple([int(x),int(y)]), radius=radius, color=(0,255,0), thickness=-1, lineType=cv2.LINE_AA)\n",
    "    # img_show(drawing_image)\n",
    "    left = data.loc[int(float(path.split('/')[4][:-4]))]['left']\n",
    "    top = data.loc[int(float(path.split('/')[4][:-4]))]['top']\n",
    "    right = data.loc[int(float(path.split('/')[4][:-4]))]['right']\n",
    "    bottom = data.loc[int(float(path.split('/')[4][:-4]))]['bottom']\n",
    "    plt.subplots(figsize=(10,10))\n",
    "    # cv2.rectangle(drawing_image, (int(left), int(top)), (int(right), int(bottom)), (255, 255, 0), 3)\n",
    "    plt.imshow(cv2.cvtColor(drawing_image, cv2.COLOR_BGR2RGB))\n",
    "    plt.axis('off')"
   ]
  },
  {
   "cell_type": "code",
   "execution_count": 6,
   "metadata": {},
   "outputs": [],
   "source": [
    "def show_diff(*args):\n",
    "    data = args[0]\n",
    "    window = args[1]\n",
    "    erase_list = ['frame','left','top','right','bottom','time_diff']\n",
    "    data3 = data[[point for point in data.columns if '-' in point] + erase_list]\n",
    "\n",
    "    if len(args) == 3:\n",
    "        idxs = args[2]\n",
    "        i = 0\n",
    "        for idx in idxs:\n",
    "            if i == 0:\n",
    "                data2 = data[[point for point in data.columns if str(idx) == point.split('-')[0]]]\n",
    "            else:\n",
    "                data2 = pd.concat([data2, data[[point for point in data.columns if str(idx) == point.split('-')[0]]]], axis=1)\n",
    "            i += 1\n",
    "        data2 = pd.concat([data2, data[erase_list]], axis=1)\n",
    "        # print(data2.columns)\n",
    "    else:\n",
    "        data2 = data3.copy()\n",
    "\n",
    "    # print(list(set(data.columns) - set(erase_list)))\n",
    "    remain_list = sorted(list(set(data2.columns) - set(erase_list)))\n",
    "    diff_df = pd.DataFrame(columns=list(range(len(data2))), index=list(set([c[:-1] for c in remain_list])))\n",
    "\n",
    "    # print(data2, remain_list)    \n",
    "    for row in range(0, len(remain_list), 2):\n",
    "        init_point = [data2.iloc[0][remain_list[row]], data2.iloc[0][remain_list[row+1]]]\n",
    "        # print(remain_list[col], remain_list[col+1])\n",
    "        temp2 = 0.0\n",
    "        # diff_df[remain_list[col][:-1]] = 0\n",
    "        for col in range(len(data2)):    \n",
    "            # print(init_point, data.loc[col][remain_list[row]], data.loc[col][remain_list[row+1]])    \n",
    "            temp = distance.euclidean(init_point, [data2.loc[col][remain_list[row]], data2.loc[col][remain_list[row+1]]])\n",
    "            temp2 += temp\n",
    "            # for start in range(0,len(data.index), window):\n",
    "            #     # print(max(data.iloc[start:start+5][col]) - min(data.iloc[start:start+5][col]), max(data.iloc[start:start+5][col]), min(data.iloc[start:start+5][col]))\n",
    "            #     temp += max(data.iloc[start:start+5][col]) - min(data.iloc[start:start+5][col])\n",
    "            diff_df.at[remain_list[row][:-1], col] = temp\n",
    "        diff_df.at[remain_list[row][:-1], 'sum'] = temp2\n",
    "        # print(remain_list[col] + \", \"+ remain_list[col+1])\n",
    "    return diff_df.sort_values('sum', ascending=False), data3"
   ]
  },
  {
   "cell_type": "code",
   "execution_count": 7,
   "metadata": {},
   "outputs": [],
   "source": [
    "def make_flow_chart(data, diff_df, part, order, image_order, path):\n",
    "    sns.set_style(\"darkgrid\")\n",
    "    fig, ax = plt.subplots(figsize = (20,10))\n",
    "    # sort = diff_df.iloc[:order]\n",
    "    diff_df = diff_df.drop(['sum'], axis=1)\n",
    "    # print(diff_df)\n",
    "    new_data = diff_df.iloc[:order]\n",
    "    print(new_data.index)\n",
    "    # new_data = new_data[[point for point in new_data.columns if str(part) == point.split('-')[0]]]\n",
    "    temp_plot = sns.lineplot(data = new_data.transpose(), markers=False, dashes=False)  \n",
    "    # print(path+str(image_order) + '.0.jpg')\n",
    "    show_img(data, path + str(image_order) + '.0.jpg', new_data)\n",
    "    # ax[idx, col].set_title(str(idx) +\" 번 클러스터\")\n",
    "    # if col==0:        \n",
    "    #     ax[idx, col].set_ylabel(list(custom_sort.keys())[idx])\n",
    "    #     ax[idx, col].yaxis.label.set_size(20)\n",
    "    # ax[idx].set_ylabel(list(custom_sort.keys())[idx] + \" group\")\n",
    "    # ax[idx].set_xticks(list(range(1,len(seq)+1)))        \n",
    "    # for row in data.iterrows():\n",
    "    #     ax[idx].text(row[0], int(row[1]['quiz']), int(row[1]['quiz']), fontsize=12, ha='center') \n",
    "    #     ax[idx].text(row[0], int(row[1]['proj']), int(row[1]['proj']), fontsize=12, ha='center')"
   ]
  },
  {
   "cell_type": "code",
   "execution_count": 78,
   "metadata": {},
   "outputs": [],
   "source": [
    "def predict(data_path1, data_path2, model):\n",
    "    landmarks = pd.read_csv(data_path1)\n",
    "    landmarks2 = pd.read_csv(data_path2)\n",
    "    landmark_matrixs, landmark_matrixs_df = cal_dist(landmarks)\n",
    "    landmark_matrixs_df['class'] = 0\n",
    "    landmark_matrixs2, landmark_matrixs_df2 = cal_dist(landmarks2)\n",
    "    landmark_matrixs_df2['class'] = 1\n",
    "    df = pd.concat([landmark_matrixs_df, landmark_matrixs_df2], axis=0)\n",
    "    length_i = len(landmark_matrixs[0].columns)\n",
    "    start = 1\n",
    "    name_list = []\n",
    "    for i in landmark_matrixs[0].index:\n",
    "        for j in range(start, length_i):\n",
    "            name_list.append(str(i)+' ↔ '+str(landmark_matrixs[0].columns[j]))\n",
    "        start += 1\n",
    "\n",
    "    X = df.drop(['class'], axis=1)\n",
    "    X = X.astype('float')\n",
    "    y = df['class']\n",
    "    X_train, X_test, y_train, y_test = train_test_split(X, y, test_size=0.2, random_state=2020)\n",
    "\n",
    "    if model == 'rf':\n",
    "        set_model = RandomForestClassifier(criterion='entropy', bootstrap=True, random_state=2022, oob_score=True)\n",
    "    elif model == 'xgboost':\n",
    "        set_model = XGBClassifier(use_label_encoder=False, eval_metric='mlogloss')\n",
    "\n",
    "    set_model.fit(X_train, y_train)\n",
    "    pred = set_model.predict(X_test)\n",
    "    print(confusion_matrix(y_test, pred))\n",
    "    # accuracy = accuracy_score(y_test, pred)\n",
    "    # print('랜덤 포레스트 정확도: {:.4f}'.format(accuracy))\n",
    "    print('훈련세트 정확도: {:.3f}' .format(set_model.score(X_train, y_train)))\n",
    "    print('테스트세트 정확도: {:.3f}' .format(set_model.score(X_test, y_test)))\n",
    "    importance = pd.DataFrame({'landmarks': name_list, 'importance': set_model.feature_importances_})\n",
    "    importance = importance.sort_values('importance',ascending=False)\n",
    "    importance = importance.astype({'landmarks':'str'})\n",
    "    print(importance)"
   ]
  },
  {
   "cell_type": "markdown",
   "metadata": {},
   "source": [
    "> 0은 얼굴 테두리 \\\n",
    "> 1, 2는 왼쪽 눈썹 위, 아래 \\\n",
    "> 3, 4는 오른쪽 눈썹 위, 아래 \\\n",
    "> 5, 6은 왼쪽, 오른쪽 눈 \\\n",
    "> 7, 8은 위쪽 입술 윗부분, 아래부분 \\\n",
    "> 9, 10은 아래쪽 입술 윗부분, 아래부분 \\\n",
    "> 11은 코 세로축 \\\n",
    "> 12는 코 아래부분"
   ]
  },
  {
   "cell_type": "markdown",
   "metadata": {},
   "source": [
    "## 1. 눈썹 들어올리기"
   ]
  },
  {
   "cell_type": "code",
   "execution_count": 79,
   "metadata": {},
   "outputs": [
    {
     "name": "stdout",
     "output_type": "stream",
     "text": [
      "[[11  0]\n",
      " [ 0 11]]\n",
      "훈련세트 정확도: 1.000\n",
      "테스트세트 정확도: 1.000\n",
      "        landmarks  importance\n",
      "2235  0-18 ↔ 0-31        0.01\n",
      "4208   1-0 ↔ 10-6        0.01\n",
      "7995   7-4 ↔ 12-2        0.01\n",
      "6816  5-13 ↔ 10-7        0.01\n",
      "262    0-1 ↔ 14-0        0.01\n",
      "...           ...         ...\n",
      "2943   0-24 ↔ 6-4        0.00\n",
      "2942   0-24 ↔ 6-3        0.00\n",
      "2941   0-24 ↔ 6-2        0.00\n",
      "2940   0-24 ↔ 6-1        0.00\n",
      "8777  13-0 ↔ 14-0        0.00\n",
      "\n",
      "[8778 rows x 2 columns]\n"
     ]
    }
   ],
   "source": [
    "predict('../data/images/중립/202209.03105902855.csv', '../data/images/눈썹들어올리기+1/202209.06220402854.csv', 'rf')"
   ]
  },
  {
   "cell_type": "code",
   "execution_count": 80,
   "metadata": {},
   "outputs": [
    {
     "name": "stdout",
     "output_type": "stream",
     "text": [
      "[[11  0]\n",
      " [ 0 11]]\n",
      "훈련세트 정확도: 1.000\n",
      "테스트세트 정확도: 1.000\n",
      "        landmarks  importance\n",
      "5       0-0 ↔ 0-6         1.0\n",
      "0       0-0 ↔ 0-1         0.0\n",
      "5855    5-0 ↔ 5-4         0.0\n",
      "5849   4-4 ↔ 12-2         0.0\n",
      "5850   4-4 ↔ 13-0         0.0\n",
      "...           ...         ...\n",
      "2921   0-24 ↔ 4-3         0.0\n",
      "2920   0-24 ↔ 4-2         0.0\n",
      "2919   0-24 ↔ 4-1         0.0\n",
      "2918   0-24 ↔ 4-0         0.0\n",
      "8777  13-0 ↔ 14-0         0.0\n",
      "\n",
      "[8778 rows x 2 columns]\n"
     ]
    }
   ],
   "source": [
    "predict('../data/images/중립/202209.03105902855.csv', '../data/images/눈썹들어올리기+1/202209.06220402854.csv', 'xgboost')"
   ]
  },
  {
   "cell_type": "markdown",
   "metadata": {},
   "source": [
    "## 3. 두 눈 감기"
   ]
  },
  {
   "cell_type": "code",
   "execution_count": 81,
   "metadata": {},
   "outputs": [
    {
     "name": "stdout",
     "output_type": "stream",
     "text": [
      "[[13  0]\n",
      " [ 0 12]]\n",
      "훈련세트 정확도: 1.000\n",
      "테스트세트 정확도: 1.000\n",
      "        landmarks  importance\n",
      "2103  0-16 ↔ 12-0    0.047749\n",
      "2090   0-16 ↔ 9-7    0.024804\n",
      "1987  0-15 ↔ 12-0    0.022706\n",
      "1870  0-14 ↔ 12-0    0.018521\n",
      "1761  0-14 ↔ 0-19    0.018284\n",
      "...           ...         ...\n",
      "2983   0-24 ↔ 9-8    0.000000\n",
      "2982   0-24 ↔ 9-7    0.000000\n",
      "2981   0-24 ↔ 9-6    0.000000\n",
      "2980   0-24 ↔ 9-5    0.000000\n",
      "8777  13-0 ↔ 14-0    0.000000\n",
      "\n",
      "[8778 rows x 2 columns]\n"
     ]
    }
   ],
   "source": [
    "predict('../data/images/중립/202209.03105902855.csv', '../data/images/두눈감기+1/202209.03105914019.csv', 'rf')"
   ]
  },
  {
   "cell_type": "code",
   "execution_count": 83,
   "metadata": {},
   "outputs": [
    {
     "name": "stdout",
     "output_type": "stream",
     "text": [
      "[[13  0]\n",
      " [ 0 12]]\n",
      "훈련세트 정확도: 1.000\n",
      "테스트세트 정확도: 1.000\n",
      "        landmarks  importance\n",
      "1987  0-15 ↔ 12-0    0.482296\n",
      "2103  0-16 ↔ 12-0    0.195566\n",
      "1644  0-13 ↔ 0-20    0.160161\n",
      "564     0-4 ↔ 3-1    0.055626\n",
      "1761  0-14 ↔ 0-19    0.042627\n",
      "...           ...         ...\n",
      "2927   0-24 ↔ 5-4    0.000000\n",
      "2926   0-24 ↔ 5-3    0.000000\n",
      "2925   0-24 ↔ 5-2    0.000000\n",
      "2924   0-24 ↔ 5-1    0.000000\n",
      "8777  13-0 ↔ 14-0    0.000000\n",
      "\n",
      "[8778 rows x 2 columns]\n"
     ]
    }
   ],
   "source": [
    "predict('../data/images/중립/202209.03105902855.csv', '../data/images/두눈감기+1/202209.03105914019.csv', 'xgboost')"
   ]
  },
  {
   "cell_type": "markdown",
   "metadata": {},
   "source": [
    "## 4. 두 눈 크게 뜨기"
   ]
  },
  {
   "cell_type": "code",
   "execution_count": 84,
   "metadata": {},
   "outputs": [
    {
     "name": "stdout",
     "output_type": "stream",
     "text": [
      "[[13  1]\n",
      " [ 0 13]]\n",
      "훈련세트 정확도: 1.000\n",
      "테스트세트 정확도: 0.963\n",
      "        landmarks  importance\n",
      "3813  0-32 ↔ 10-1        0.01\n",
      "4483    1-3 ↔ 9-8        0.01\n",
      "2357   0-19 ↔ 1-4        0.01\n",
      "2362   0-19 ↔ 2-4        0.01\n",
      "4559    1-4 ↔ 8-1        0.01\n",
      "...           ...         ...\n",
      "2930   0-24 ↔ 5-7        0.00\n",
      "2929   0-24 ↔ 5-6        0.00\n",
      "2928   0-24 ↔ 5-5        0.00\n",
      "2927   0-24 ↔ 5-4        0.00\n",
      "8777  13-0 ↔ 14-0        0.00\n",
      "\n",
      "[8778 rows x 2 columns]\n"
     ]
    }
   ],
   "source": [
    "predict('../data/images/중립/202209.03105902855.csv', '../data/images/두눈크게뜨기+1/202209.03152411046.csv', 'rf')"
   ]
  },
  {
   "cell_type": "code",
   "execution_count": 85,
   "metadata": {},
   "outputs": [
    {
     "name": "stdout",
     "output_type": "stream",
     "text": [
      "[[12  2]\n",
      " [ 2 11]]\n",
      "훈련세트 정확도: 1.000\n",
      "테스트세트 정확도: 0.852\n",
      "        landmarks  importance\n",
      "16     0-0 ↔ 0-17         1.0\n",
      "0       0-0 ↔ 0-1         0.0\n",
      "5847   4-4 ↔ 12-0         0.0\n",
      "5849   4-4 ↔ 12-2         0.0\n",
      "5850   4-4 ↔ 13-0         0.0\n",
      "...           ...         ...\n",
      "2921   0-24 ↔ 4-3         0.0\n",
      "2920   0-24 ↔ 4-2         0.0\n",
      "2919   0-24 ↔ 4-1         0.0\n",
      "2918   0-24 ↔ 4-0         0.0\n",
      "8777  13-0 ↔ 14-0         0.0\n",
      "\n",
      "[8778 rows x 2 columns]\n"
     ]
    }
   ],
   "source": [
    "predict('../data/images/중립/202209.03105902855.csv', '../data/images/두눈크게뜨기+1/202209.03152411046.csv', 'xgboost')"
   ]
  },
  {
   "cell_type": "markdown",
   "metadata": {},
   "source": [
    "## 9. 입벌리기"
   ]
  },
  {
   "cell_type": "code",
   "execution_count": 86,
   "metadata": {},
   "outputs": [
    {
     "name": "stdout",
     "output_type": "stream",
     "text": [
      "[[12  0]\n",
      " [ 0 11]]\n",
      "훈련세트 정확도: 1.000\n",
      "테스트세트 정확도: 1.000\n",
      "        landmarks  importance\n",
      "38      0-0 ↔ 1-3        0.02\n",
      "4559    1-4 ↔ 8-1        0.01\n",
      "3961  0-34 ↔ 5-13        0.01\n",
      "467     0-3 ↔ 6-6        0.01\n",
      "464     0-3 ↔ 6-3        0.01\n",
      "...           ...         ...\n",
      "2940   0-24 ↔ 6-1        0.00\n",
      "2939   0-24 ↔ 6-0        0.00\n",
      "2938  0-24 ↔ 5-15        0.00\n",
      "2937  0-24 ↔ 5-14        0.00\n",
      "8777  13-0 ↔ 14-0        0.00\n",
      "\n",
      "[8778 rows x 2 columns]\n"
     ]
    }
   ],
   "source": [
    "predict('../data/images/중립/202209.03105902855.csv', '../data/images/입벌리기+1/202209.05132412050.csv', 'rf')"
   ]
  },
  {
   "cell_type": "code",
   "execution_count": 87,
   "metadata": {},
   "outputs": [
    {
     "name": "stdout",
     "output_type": "stream",
     "text": [
      "[[12  0]\n",
      " [ 0 11]]\n",
      "훈련세트 정확도: 1.000\n",
      "테스트세트 정확도: 1.000\n",
      "        landmarks  importance\n",
      "8       0-0 ↔ 0-9         1.0\n",
      "0       0-0 ↔ 0-1         0.0\n",
      "5855    5-0 ↔ 5-4         0.0\n",
      "5849   4-4 ↔ 12-2         0.0\n",
      "5850   4-4 ↔ 13-0         0.0\n",
      "...           ...         ...\n",
      "2921   0-24 ↔ 4-3         0.0\n",
      "2920   0-24 ↔ 4-2         0.0\n",
      "2919   0-24 ↔ 4-1         0.0\n",
      "2918   0-24 ↔ 4-0         0.0\n",
      "8777  13-0 ↔ 14-0         0.0\n",
      "\n",
      "[8778 rows x 2 columns]\n"
     ]
    }
   ],
   "source": [
    "predict('../data/images/중립/202209.03105902855.csv', '../data/images/입벌리기+1/202209.05132412050.csv', 'xgboost')"
   ]
  },
  {
   "cell_type": "markdown",
   "metadata": {},
   "source": [
    "## 10. 입술 오므리기"
   ]
  },
  {
   "cell_type": "code",
   "execution_count": 88,
   "metadata": {},
   "outputs": [
    {
     "name": "stdout",
     "output_type": "stream",
     "text": [
      "[[10  0]\n",
      " [ 0  9]]\n",
      "훈련세트 정확도: 1.000\n",
      "테스트세트 정확도: 1.000\n",
      "        landmarks  importance\n",
      "38      0-0 ↔ 1-3        0.02\n",
      "7138    6-3 ↔ 7-1        0.01\n",
      "4853   2-2 ↔ 10-7        0.01\n",
      "483     0-3 ↔ 7-6        0.01\n",
      "482     0-3 ↔ 7-5        0.01\n",
      "...           ...         ...\n",
      "2939   0-24 ↔ 6-0        0.00\n",
      "2938  0-24 ↔ 5-15        0.00\n",
      "2937  0-24 ↔ 5-14        0.00\n",
      "2936  0-24 ↔ 5-13        0.00\n",
      "8777  13-0 ↔ 14-0        0.00\n",
      "\n",
      "[8778 rows x 2 columns]\n"
     ]
    }
   ],
   "source": [
    "predict('../data/images/중립/202209.03105902855.csv', '../data/images/입술오므리기+1/202209.05132437930.csv', 'rf')"
   ]
  },
  {
   "cell_type": "code",
   "execution_count": 89,
   "metadata": {},
   "outputs": [
    {
     "name": "stdout",
     "output_type": "stream",
     "text": [
      "[[10  0]\n",
      " [ 0  9]]\n",
      "훈련세트 정확도: 1.000\n",
      "테스트세트 정확도: 1.000\n",
      "        landmarks  importance\n",
      "2       0-0 ↔ 0-3    0.938667\n",
      "1       0-0 ↔ 0-2    0.061333\n",
      "5854    5-0 ↔ 5-3    0.000000\n",
      "5848   4-4 ↔ 12-1    0.000000\n",
      "5849   4-4 ↔ 12-2    0.000000\n",
      "...           ...         ...\n",
      "2920   0-24 ↔ 4-2    0.000000\n",
      "2919   0-24 ↔ 4-1    0.000000\n",
      "2918   0-24 ↔ 4-0    0.000000\n",
      "2917   0-24 ↔ 3-4    0.000000\n",
      "8777  13-0 ↔ 14-0    0.000000\n",
      "\n",
      "[8778 rows x 2 columns]\n"
     ]
    }
   ],
   "source": [
    "predict('../data/images/중립/202209.03105902855.csv', '../data/images/입술오므리기+1/202209.05132437930.csv', 'xgboost')"
   ]
  },
  {
   "cell_type": "markdown",
   "metadata": {},
   "source": [
    "## 16. 미소짓기"
   ]
  },
  {
   "cell_type": "code",
   "execution_count": 90,
   "metadata": {},
   "outputs": [
    {
     "name": "stdout",
     "output_type": "stream",
     "text": [
      "[[11  0]\n",
      " [ 0 10]]\n",
      "훈련세트 정확도: 1.000\n",
      "테스트세트 정확도: 1.000\n",
      "        landmarks  importance\n",
      "8164    7-9 ↔ 9-6        0.02\n",
      "38      0-0 ↔ 1-3        0.02\n",
      "483     0-3 ↔ 7-6        0.01\n",
      "5079    3-0 ↔ 7-1        0.01\n",
      "3732   0-32 ↔ 1-1        0.01\n",
      "...           ...         ...\n",
      "2935  0-24 ↔ 5-12        0.00\n",
      "2934  0-24 ↔ 5-11        0.00\n",
      "2933  0-24 ↔ 5-10        0.00\n",
      "2932   0-24 ↔ 5-9        0.00\n",
      "8777  13-0 ↔ 14-0        0.00\n",
      "\n",
      "[8778 rows x 2 columns]\n"
     ]
    }
   ],
   "source": [
    "predict('../data/images/중립/202209.03105902855.csv', '../data/images/미소짓기+1/202209.05132448886.csv', 'rf')"
   ]
  },
  {
   "cell_type": "code",
   "execution_count": 91,
   "metadata": {},
   "outputs": [
    {
     "name": "stdout",
     "output_type": "stream",
     "text": [
      "[[11  0]\n",
      " [ 1  9]]\n",
      "훈련세트 정확도: 1.000\n",
      "테스트세트 정확도: 0.952\n",
      "        landmarks  importance\n",
      "6       0-0 ↔ 0-7         1.0\n",
      "0       0-0 ↔ 0-1         0.0\n",
      "5855    5-0 ↔ 5-4         0.0\n",
      "5849   4-4 ↔ 12-2         0.0\n",
      "5850   4-4 ↔ 13-0         0.0\n",
      "...           ...         ...\n",
      "2921   0-24 ↔ 4-3         0.0\n",
      "2920   0-24 ↔ 4-2         0.0\n",
      "2919   0-24 ↔ 4-1         0.0\n",
      "2918   0-24 ↔ 4-0         0.0\n",
      "8777  13-0 ↔ 14-0         0.0\n",
      "\n",
      "[8778 rows x 2 columns]\n"
     ]
    }
   ],
   "source": [
    "predict('../data/images/중립/202209.03105902855.csv', '../data/images/미소짓기+1/202209.05132448886.csv', 'xgboost')"
   ]
  },
  {
   "cell_type": "code",
   "execution_count": null,
   "metadata": {},
   "outputs": [],
   "source": []
  }
 ],
 "metadata": {
  "kernelspec": {
   "display_name": "Python 3.9.12 ('tfface')",
   "language": "python",
   "name": "python3"
  },
  "language_info": {
   "codemirror_mode": {
    "name": "ipython",
    "version": 3
   },
   "file_extension": ".py",
   "mimetype": "text/x-python",
   "name": "python",
   "nbconvert_exporter": "python",
   "pygments_lexer": "ipython3",
   "version": "3.9.12"
  },
  "orig_nbformat": 4,
  "vscode": {
   "interpreter": {
    "hash": "7e318f884811f55877d06bbc5456a4670ca1397bb6e20c4ae81dc4f96f0847c6"
   }
  }
 },
 "nbformat": 4,
 "nbformat_minor": 2
}
